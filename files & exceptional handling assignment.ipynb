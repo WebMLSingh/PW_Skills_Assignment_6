{
  "nbformat": 4,
  "nbformat_minor": 0,
  "metadata": {
    "colab": {
      "provenance": []
    },
    "kernelspec": {
      "name": "python3",
      "display_name": "Python 3"
    },
    "language_info": {
      "name": "python"
    }
  },
  "cells": [
    {
      "cell_type": "markdown",
      "source": [
        "4. Write a Python program using multithreading where one thread adds numbers to a list, and another thread removes numbers from the list. Implement a mechanism to avoid race conditions using threading.Lock."
      ],
      "metadata": {
        "id": "HJ6hIDGyAXlf"
      }
    },
    {
      "cell_type": "code",
      "source": [
        "import threading\n",
        "import time\n",
        "\n",
        "# Shared resource (list)\n",
        "numbers_list = []\n",
        "\n",
        "# Lock object to prevent race conditions\n",
        "list_lock = threading.Lock()\n",
        "\n",
        "# Function to add numbers to the list\n",
        "def add_numbers():\n",
        "    for i in range(1, 6):  # Adding 5 numbers\n",
        "        time.sleep(1)  # Simulate some delay\n",
        "        with list_lock:\n",
        "            numbers_list.append(i)\n",
        "            print(f\"Added {i} to the list. List now: {numbers_list}\")\n",
        "\n",
        "# Function to remove numbers from the list\n",
        "def remove_numbers():\n",
        "    for i in range(1, 6):  # Removing 5 numbers\n",
        "        time.sleep(1.5)  # Simulate some delay\n",
        "        with list_lock:\n",
        "            if numbers_list:\n",
        "                removed = numbers_list.pop(0)\n",
        "                print(f\"Removed {removed} from the list. List now: {numbers_list}\")\n",
        "            else:\n",
        "                print(\"List is empty, cannot remove.\")\n",
        "\n",
        "# Create threads\n",
        "add_thread = threading.Thread(target=add_numbers)\n",
        "remove_thread = threading.Thread(target=remove_numbers)\n",
        "\n",
        "# Start threads\n",
        "add_thread.start()\n",
        "remove_thread.start()\n",
        "\n",
        "# Wait for both threads to complete\n",
        "add_thread.join()\n",
        "remove_thread.join()\n",
        "\n",
        "print(\"Final list:\", numbers_list)\n"
      ],
      "metadata": {
        "colab": {
          "base_uri": "https://localhost:8080/"
        },
        "id": "-yJWLhgYAYj-",
        "outputId": "83268ee2-5ebf-4b45-9003-07f276ebaffe"
      },
      "execution_count": 1,
      "outputs": [
        {
          "output_type": "stream",
          "name": "stdout",
          "text": [
            "Added 1 to the list. List now: [1]\n",
            "Removed 1 from the list. List now: []\n",
            "Added 2 to the list. List now: [2]\n",
            "Added 3 to the list. List now: [2, 3]\n",
            "Removed 2 from the list. List now: [3]\n",
            "Added 4 to the list. List now: [3, 4]\n",
            "Removed 3 from the list. List now: [4]\n",
            "Added 5 to the list. List now: [4, 5]\n",
            "Removed 4 from the list. List now: [5]\n",
            "Removed 5 from the list. List now: []\n",
            "Final list: []\n"
          ]
        }
      ]
    },
    {
      "cell_type": "markdown",
      "source": [
        "7. Create a program that uses a thread pool to calculate the factorial of numbers from 1 to 10 concurrently. Use concurrent.futures.ThreadPoolExecutor to manage the threads."
      ],
      "metadata": {
        "id": "e_bx7rdlB61t"
      }
    },
    {
      "cell_type": "code",
      "source": [
        "import concurrent.futures\n",
        "import math\n",
        "\n",
        "# Function to calculate factorial\n",
        "def calculate_factorial(n):\n",
        "    result = math.factorial(n)\n",
        "    print(f\"Factorial of {n} is {result}\")\n",
        "    return result\n",
        "\n",
        "# Main function to create a thread pool and compute factorials\n",
        "def main():\n",
        "    numbers = range(1, 11)  # Numbers from 1 to 10\n",
        "\n",
        "    # Create a ThreadPoolExecutor to manage threads\n",
        "    with concurrent.futures.ThreadPoolExecutor() as executor:\n",
        "        # Submit tasks to the thread pool\n",
        "        results = [executor.submit(calculate_factorial, num) for num in numbers]\n",
        "\n",
        "        # Wait for all tasks to complete and get results\n",
        "        for future in concurrent.futures.as_completed(results):\n",
        "            future.result()  # This will raise any exceptions caught during execution if present\n",
        "\n",
        "if __name__ == \"__main__\":\n",
        "    main()\n"
      ],
      "metadata": {
        "colab": {
          "base_uri": "https://localhost:8080/"
        },
        "id": "4gF411AyAboq",
        "outputId": "e4d8524b-3701-476f-b44d-c0e07b4c5c91"
      },
      "execution_count": 2,
      "outputs": [
        {
          "output_type": "stream",
          "name": "stdout",
          "text": [
            "Factorial of 1 is 1\n",
            "Factorial of 2 is 2\n",
            "Factorial of 3 is 6\n",
            "Factorial of 4 is 24\n",
            "Factorial of 5 is 120\n",
            "Factorial of 6 is 720\n",
            "Factorial of 7 is 5040Factorial of 8 is 40320\n",
            "Factorial of 9 is 362880\n",
            "\n",
            "Factorial of 10 is 3628800\n"
          ]
        }
      ]
    },
    {
      "cell_type": "markdown",
      "source": [
        "8. Create a Python program that uses multiprocessing.Pool to compute the square of numbers from 1 to 10 in parallel. Measure the time taken to perform this computation using a pool of different sizes (e.g., 2, 4, 8 processes)."
      ],
      "metadata": {
        "id": "K9BGwzA4B9UE"
      }
    },
    {
      "cell_type": "code",
      "source": [
        "import multiprocessing\n",
        "import time\n",
        "\n",
        "# Function to compute the square of a number\n",
        "def compute_square(n):\n",
        "    return n * n\n",
        "\n",
        "# Function to perform parallel computation with different pool sizes\n",
        "def parallel_square_computation(pool_size):\n",
        "    numbers = list(range(1, 11))  # Numbers from 1 to 10\n",
        "\n",
        "    # Measure start time\n",
        "    start_time = time.time()\n",
        "\n",
        "    # Create a pool of processes\n",
        "    with multiprocessing.Pool(pool_size) as pool:\n",
        "        # Map the numbers to the compute_square function in parallel\n",
        "        results = pool.map(compute_square, numbers)\n",
        "\n",
        "    # Measure end time\n",
        "    end_time = time.time()\n",
        "\n",
        "    # Print results and time taken\n",
        "    print(f\"Pool size: {pool_size}, Results: {results}\")\n",
        "    print(f\"Time taken with pool size {pool_size}: {end_time - start_time:.4f} seconds\\n\")\n",
        "\n",
        "if __name__ == \"__main__\":\n",
        "    # Test with different pool sizes\n",
        "    for size in [2, 4, 8]:\n",
        "        parallel_square_computation(size)\n"
      ],
      "metadata": {
        "colab": {
          "base_uri": "https://localhost:8080/"
        },
        "id": "awOZStx-B2uS",
        "outputId": "1d76c618-5ec4-4ad8-d67e-816aadbeac45"
      },
      "execution_count": 3,
      "outputs": [
        {
          "output_type": "stream",
          "name": "stdout",
          "text": [
            "Pool size: 2, Results: [1, 4, 9, 16, 25, 36, 49, 64, 81, 100]\n",
            "Time taken with pool size 2: 0.0345 seconds\n",
            "\n",
            "Pool size: 4, Results: [1, 4, 9, 16, 25, 36, 49, 64, 81, 100]\n",
            "Time taken with pool size 4: 0.0434 seconds\n",
            "\n",
            "Pool size: 8, Results: [1, 4, 9, 16, 25, 36, 49, 64, 81, 100]\n",
            "Time taken with pool size 8: 0.0866 seconds\n",
            "\n"
          ]
        }
      ]
    }
  ]
}